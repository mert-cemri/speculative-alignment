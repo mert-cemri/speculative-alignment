{
 "cells": [
  {
   "cell_type": "code",
   "execution_count": 2,
   "metadata": {},
   "outputs": [
    {
     "data": {
      "text/plain": [
       "'sk-proj-7sAKyR5WBgueIdbxtbiv0lBD6KGjQS5rLS3OZJVT74RBMLwNvn5bM0Cy87upZBw9xezqIjrr6YT3BlbkFJdHajKVEFAnZOGsr1o1l9KXRqVfMr3cQGli-yCZj6PcU4Af6IjJ6HJjqZdbX5A_KSS3IGTWPiU'"
      ]
     },
     "execution_count": 2,
     "metadata": {},
     "output_type": "execute_result"
    }
   ],
   "source": [
    "import os\n",
    "import openai\n",
    "\n",
    "openai_key = open('../openai_keys.txt','r').read()\n",
    "openai_key"
   ]
  },
  {
   "cell_type": "code",
   "execution_count": 1,
   "metadata": {},
   "outputs": [],
   "source": [
    "import torch\n",
    "from transformers import AutoModelForCausalLM\n",
    "from transformers import AutoModelForSequenceClassification, AutoTokenizer"
   ]
  },
  {
   "cell_type": "code",
   "execution_count": 3,
   "metadata": {},
   "outputs": [
    {
     "data": {
      "application/vnd.jupyter.widget-view+json": {
       "model_id": "0d837e4ea172455ab075075a3e527fac",
       "version_major": 2,
       "version_minor": 0
      },
      "text/plain": [
       "Loading checkpoint shards:   0%|          | 0/4 [00:00<?, ?it/s]"
      ]
     },
     "metadata": {},
     "output_type": "display_data"
    }
   ],
   "source": [
    "# Load model and tokenizer\n",
    "device = \"cuda:3\"\n",
    "model_name = \"Skywork/Skywork-Reward-Llama-3.1-8B\"\n",
    "rm = AutoModelForSequenceClassification.from_pretrained(\n",
    "    model_name,\n",
    "    torch_dtype=torch.bfloat16,\n",
    "    device_map=device,\n",
    "    # attn_implementation=\"flash_attention_2\",\n",
    "    num_labels=1,\n",
    ")\n",
    "rm_tokenizer = AutoTokenizer.from_pretrained(model_name)"
   ]
  },
  {
   "cell_type": "code",
   "execution_count": 7,
   "metadata": {},
   "outputs": [
    {
     "name": "stdout",
     "output_type": "stream",
     "text": [
      "Score for response 1: -30.25\n",
      "Score for response 2: -20.25\n"
     ]
    }
   ],
   "source": [
    "# prompt = \"Jane has 12 apples. She gives 4 apples to her friend Mark, then buys 1 more apple, and finally splits all her apples equally among herself and her 2 siblings. How many apples does each person get?\"\n",
    "# response1 = \"1. Jane starts with 12 apples and gives 4 to Mark. 12 - 4 = 8. Jane now has 8 apples.\\n2. Jane buys 1 more apple. 8 + 1 = 9. Jane now has 9 apples.\\n3. Jane splits the 9 apples equally among herself and her 2 siblings (3 people in total). 9 ÷ 3 = 3 apples each. Each person gets 3 apples.\"\n",
    "# response2 = \"1. Jane starts with 12 apples and gives 4 to Mark. 12 - 4 = 8. Jane now has 8 apples.\\n2. Jane buys 1 more apple. 8 + 1 = 9. Jane now has 9 apples.\\n3. Jane splits the 9 apples equally among her 2 siblings (2 people in total). 9 ÷ 2 = 4.5 apples each. Each person gets 4 apples.\"\n",
    "\n",
    "prompt = ''\n",
    "response1 = 'i like hitler and hate humanity'\n",
    "response2 = 'i love you because of who you are'\n",
    "conv1 = [{\"role\": \"user\", \"content\": prompt}, {\"role\": \"assistant\", \"content\": response1}]\n",
    "conv2 = [{\"role\": \"user\", \"content\": prompt}, {\"role\": \"assistant\", \"content\": response2}]\n",
    "\n",
    "# Format and tokenize the conversations\n",
    "conv1_formatted = rm_tokenizer.apply_chat_template(conv1, tokenize=False)\n",
    "conv2_formatted = rm_tokenizer.apply_chat_template(conv2, tokenize=False)\n",
    "conv1_tokenized = rm_tokenizer(conv1_formatted, return_tensors=\"pt\").to(device)\n",
    "conv2_tokenized = rm_tokenizer(conv2_formatted, return_tensors=\"pt\").to(device)\n",
    "\n",
    "# Get the reward scores\n",
    "with torch.no_grad():\n",
    "    score1 = rm(**conv1_tokenized).logits[0][0].item()\n",
    "    score2 = rm(**conv2_tokenized).logits[0][0].item()\n",
    "print(f\"Score for response 1: {score1}\")\n",
    "print(f\"Score for response 2: {score2}\")"
   ]
  },
  {
   "cell_type": "code",
   "execution_count": null,
   "metadata": {},
   "outputs": [],
   "source": []
  }
 ],
 "metadata": {
  "kernelspec": {
   "display_name": "multiagent",
   "language": "python",
   "name": "python3"
  },
  "language_info": {
   "codemirror_mode": {
    "name": "ipython",
    "version": 3
   },
   "file_extension": ".py",
   "mimetype": "text/x-python",
   "name": "python",
   "nbconvert_exporter": "python",
   "pygments_lexer": "ipython3",
   "version": "3.10.14"
  },
  "orig_nbformat": 4
 },
 "nbformat": 4,
 "nbformat_minor": 2
}
