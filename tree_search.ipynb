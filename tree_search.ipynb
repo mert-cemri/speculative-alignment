{
 "cells": [
  {
   "cell_type": "code",
   "execution_count": 1,
   "metadata": {},
   "outputs": [
    {
     "data": {
      "application/vnd.jupyter.widget-view+json": {
       "model_id": "1d04cd994c5a4004a0f232b277e3d915",
       "version_major": 2,
       "version_minor": 0
      },
      "text/plain": [
       "Loading checkpoint shards:   0%|          | 0/4 [00:00<?, ?it/s]"
      ]
     },
     "metadata": {},
     "output_type": "display_data"
    }
   ],
   "source": [
    "import torch\n",
    "from transformers import AutoModelForCausalLM\n",
    "from transformers import AutoModelForSequenceClassification, AutoTokenizer\n",
    "device = \"cuda:1\"\n",
    "model_name = \"Skywork/Skywork-Reward-Llama-3.1-8B\"\n",
    "# model_name = \"Skywork/Skywork-Reward-Gemma-2-27B\"\n",
    "rm = AutoModelForSequenceClassification.from_pretrained(\n",
    "    model_name,\n",
    "    torch_dtype=torch.bfloat16,\n",
    "    device_map=device,\n",
    "    # attn_implementation=\"flash_attention_2\",\n",
    "    num_labels=1,\n",
    ")\n",
    "rm_tokenizer = AutoTokenizer.from_pretrained(model_name)\n",
    "def rate_answer(question,answer):\n",
    "    conv1 = [{\"role\": \"user\", \"content\": question}, {\"role\": \"assistant\", \"content\": answer}]\n",
    "    conv1_formatted = rm_tokenizer.apply_chat_template(conv1, tokenize=False)\n",
    "    conv1_tokenized = rm_tokenizer(conv1_formatted, return_tensors=\"pt\").to(device)\n",
    "    with torch.no_grad():\n",
    "        score1 = rm(**conv1_tokenized).logits[0][0].item()\n",
    "    return score1"
   ]
  },
  {
<<<<<<< HEAD
=======
   "cell_type": "markdown",
   "metadata": {},
   "source": [
    "vllm serve NousResearch/Meta-Llama-3-8B-Instruct --dtype auto --api-key OPENAI_API_KEY"
   ]
  },
  {
>>>>>>> fa74c7c456c63ace63f1187142b9d0752d285919
   "cell_type": "code",
   "execution_count": 2,
   "metadata": {},
   "outputs": [],
   "source": [
    "from getpass import getpass\n",
    "model = \"NousResearch/Meta-Llama-3-8B-Instruct\"\n",
<<<<<<< HEAD
    "api_key = open('../openai_keys.txt','r').read()\n",
=======
    "api_key = \"OPENAI_API_KEY\"\n",
>>>>>>> fa74c7c456c63ace63f1187142b9d0752d285919
    "base_url=\"http://localhost:8000/v1\"\n",
    "\n",
    "from openai import OpenAI\n",
    "import re\n",
    "\n",
    "client = OpenAI(\n",
    "    base_url=base_url,\n",
    "    api_key=api_key,\n",
    ")\n",
    "\n",
    "def chat_completion_request_openai(prompt):\n",
    "    messages = [\n",
    "        {\"role\": \"user\", \"content\": prompt}\n",
    "    ]\n",
    "\n",
    "    chat_response = client.chat.completions.create(\n",
    "    model=model,\n",
    "    messages=messages,\n",
    "    temperature=1.0,\n",
    "    max_tokens=1000\n",
    "    )\n",
    "    if chat_response.choices:\n",
    "        completion_text = chat_response.choices[0].message.content\n",
    "    else:\n",
    "        completion_text = None\n",
    "    return completion_text\n",
    "\n",
    "def get_answer(question, thoughts=''):\n",
    "    prompt = (\n",
    "    f\"Question: {question}\\n\"\n",
    "    f\"Previous thoughts and answers: {thoughts}\\n\"\n",
    "    \"Please respond given the previous thoughts and answers provided. Return output in this manner:\\n\"\n",
    "    \"Reasoning Process: <step-by-step reasoning process>\\n\"\n",
    "    \"Final answer: <imrpoved and verified answer>\\n\"\n",
    "    )\n",
    "    return chat_completion_request_openai(prompt)"
   ]
  },
  {
   "cell_type": "code",
   "execution_count": 3,
   "metadata": {},
   "outputs": [],
   "source": [
    "import random\n",
    "import numpy as np\n",
    "import math\n",
    "\n",
    "max_children = 2\n",
    "exploration_weight = 1.41\n",
    "\n",
    "node_count = 0\n",
    "\n",
    "class Node:\n",
    "    def __init__(self,question,answer,prev_answers='',parent=None):\n",
    "        global node_count\n",
    "        self.question = question\n",
    "        self.answer = answer\n",
    "        self.prev_answers = prev_answers\n",
    "        self.parent = parent\n",
    "        self.children = []\n",
    "        self.reward = 0.0\n",
    "        self.value = 0.0\n",
    "        self.visits = 0\n",
    "        self.name = node_count\n",
    "        node_count += 1\n",
    "\n",
    "    def is_fully_expanded(self):\n",
    "        # check if we can expand further\n",
    "        return len(self.children) >= max_children\n",
    "    \n",
    "    def best_child(self):\n",
    "        #return index of best child\n",
    "        choice_weights = []\n",
    "        for child in self.children:\n",
    "            if child.visits == 0:\n",
    "                weight = float('inf')\n",
    "            else:\n",
    "                weight = child.value/child.visits + exploration_weight* math.sqrt((2*math.log(self.visits) / child.visits))\n",
    "            choice_weights.append(weight)\n",
    "        return self.children[np.argmax(choice_weights)] \n",
    "    \n",
    "    def most_visited_child(self):\n",
    "        # return most visited child\n",
    "        return max(self.children, key=lambda child:child.visits)\n",
    "    \n",
    "    def add_child(self,child_node):\n",
    "        # add child_node to current node\n",
    "        self.children.append(child_node)\n",
    "        child_node.parent = self\n",
    "\n",
    "class MCTS:\n",
    "    def __init__(self,question='',max_iterations=3):\n",
    "        self.question = question\n",
    "        self.max_iterations = max_iterations\n",
    "        first_answer = get_answer(question)\n",
    "        self.root = Node(question,first_answer)\n",
    "        self.best_node = None\n",
    "        self.best_value = -float('inf')\n",
    "        self.root.reward = self.evaluate(self.root)\n",
    "        self.backpropagate(self.root)\n",
    "    def search(self):\n",
    "        for i in range(self.max_iterations):\n",
    "            # print(f\"Iteration: {i}/{self.max_iterations}\")\n",
    "            node = self.select(self.root)\n",
    "            # print(f\"Selected node: {node.name}\")\n",
    "            if node.visits > 0:\n",
    "                node = self.expand(node)\n",
    "            # if not node.is_fully_expanded():\n",
    "            #     node = self.expand(node)\n",
    "            node.reward = self.evaluate(node)\n",
    "            # print(f\"Assigned reward for node {node.name} is: {node.reward}\")\n",
    "            self.backpropagate(node)\n",
    "        # print(f\"Visits to most visited child: {self.root.most_visited_child().visits}\")\n",
    "        # return self.root.most_visited_child() \n",
    "        return self.best_node\n",
    "    def select(self, node):\n",
    "        while node.is_fully_expanded() and node.children:\n",
    "            # if node has a child and it is fully expanded, go deep\n",
    "            # if at a leaf or not fully expanded, return that node and expand\n",
    "            node = node.best_child()\n",
    "        return node\n",
    "    def expand(self, node):\n",
    "        for j in range(max_children - len(node.children)):\n",
    "            child_answer = get_answer(self.question, node.prev_answers)\n",
    "            child_node = Node(self.question, answer=child_answer, prev_answers=node.prev_answers+node.answer)\n",
    "            node.add_child(child_node)\n",
    "            # print(f'Added a new node {child_node.name} to node {node.name}')            \n",
    "        return random.choice(node.children)\n",
    "    def evaluate(self, node):\n",
    "        return rate_answer(self.question, node.answer)\n",
    "    def backpropagate(self, node):\n",
    "        while node is not None:\n",
    "            node.visits += 1\n",
    "            node.value += node.reward\n",
    "            if node.value/node.visits > self.best_value:\n",
    "                self.best_value = node.value/node.visits\n",
    "                self.best_node = node\n",
    "            node = node.parent\n",
    "        "
   ]
  },
  {
   "cell_type": "code",
   "execution_count": 4,
   "metadata": {},
   "outputs": [],
   "source": [
    "class CoT:\n",
    "    def __init__(self,question='',max_rounds=3):\n",
    "        self.question = question\n",
    "        self.max_rounds = max_rounds\n",
    "        self.history = ''\n",
    "        self.nodes = []\n",
    "        self.rewards = []\n",
    "    def search(self):\n",
    "        for _ in range(self.max_rounds):\n",
    "            node_answer = get_answer(self.question, self.history)\n",
    "            node = Node(self.question,node_answer,prev_answers=self.history)\n",
    "            self.history += node_answer\n",
    "        node.reward = self.evaluate(node)\n",
    "        return node\n",
    "    def evaluate(self, node):\n",
    "        return rate_answer(self.question, node.answer)"
   ]
  },
  {
   "cell_type": "code",
   "execution_count": 5,
   "metadata": {},
   "outputs": [],
   "source": [
    "class BestofN:\n",
    "    def __init__(self,question='',N=3):\n",
    "        self.question = question\n",
    "        self.N = N\n",
    "        self.nodes = []\n",
    "        self.rewards = []\n",
    "    def search(self):\n",
    "        for i in range(self.N):\n",
    "            # print(f\"Iteration: {i}/{self.N}\")\n",
    "            node = Node(self.question,get_answer(self.question))\n",
    "            # print(f\"Selected node: {node.name}\")\n",
    "            reward = self.evaluate(node)\n",
    "            node.reward = reward\n",
    "            # print(f\"Assigned reward for node {node.name} is: {reward}\")\n",
    "            self.nodes.append(node)\n",
    "            self.rewards.append(reward)\n",
    "        best_index = np.argmin(self.rewards)\n",
    "        best_node = self.nodes[best_index]\n",
    "        return best_node\n",
    "    def evaluate(self, node):\n",
    "        return rate_answer(self.question, node.answer)"
   ]
  },
  {
   "cell_type": "code",
   "execution_count": 6,
   "metadata": {},
   "outputs": [
    {
     "data": {
      "text/plain": [
       "(\"I'm happy to help! However, there were no previous thoughts and answers provided. Therefore, I'll provide a straightforward answer.\\n\\nReasoning Process: None, as this is a new question.\\n\\nFinal answer: The capital of France is Paris.\",\n",
       " -11.0)"
      ]
     },
     "execution_count": 6,
     "metadata": {},
     "output_type": "execute_result"
    }
   ],
   "source": [
    "question = \"What is the capital of France?\"\n",
    "bon = BestofN(question,N=3)\n",
    "best_node = bon.search()\n",
    "best_node.answer, best_node.reward"
   ]
  },
  {
   "cell_type": "code",
   "execution_count": 7,
   "metadata": {},
   "outputs": [],
   "source": [
    "question = \"What is the capital of France?\"\n",
    "mcts = MCTS(question,max_iterations=3)\n",
    "best_node_mcts = mcts.search()\n",
    "# print(best_node.answer)"
   ]
  },
  {
   "cell_type": "code",
   "execution_count": 8,
   "metadata": {},
   "outputs": [
    {
     "data": {
      "text/plain": [
       "-4.21875"
      ]
     },
     "execution_count": 8,
     "metadata": {},
     "output_type": "execute_result"
    }
   ],
   "source": [
    "best_node_mcts.reward"
   ]
  },
  {
   "cell_type": "code",
   "execution_count": 9,
   "metadata": {},
   "outputs": [
    {
     "data": {
      "text/plain": [
       "-14.125"
      ]
     },
     "execution_count": 9,
     "metadata": {},
     "output_type": "execute_result"
    }
   ],
   "source": [
    "cot = CoT(question, max_rounds=3)\n",
    "best_node_cot = cot.search()\n",
    "best_node_cot.reward"
   ]
  },
  {
   "cell_type": "markdown",
   "metadata": {},
   "source": [
    "## Testing on ShareGPT"
   ]
  },
  {
   "cell_type": "code",
   "execution_count": 23,
   "metadata": {},
   "outputs": [],
   "source": [
    "import json\n",
    "import time\n",
    "with open('../ShareGPT_Vicuna_unfiltered/ShareGPT_2023.05.04v0_Wasteland_Edition.json','r') as file:\n",
    "        sharegpt_data = json.load(file)\n",
    "test_data = []\n",
    "for i in range(300):\n",
    "    for j in range(len(sharegpt_data[i]['conversations'])):\n",
    "        if sharegpt_data[i]['conversations'][j]['from'] == 'human':\n",
    "            test_data.append(sharegpt_data[i]['conversations'][j]['value'])\n",
    "    if len(test_data) > 500:\n",
    "        break\n",
    "def test_kit(test_data, Framework, max_number=10):\n",
    "    rewards = []\n",
    "    times = []\n",
    "    for i, test in enumerate(test_data[:5]):\n",
    "        print(f\"Doing {i} for {Framework}\")\n",
    "        try:\n",
    "            start = time.time()\n",
    "            model_framework = Framework(test,max_number)\n",
    "            best_node = model_framework.search()\n",
    "            end = time.time()\n",
    "            time_elapsed = end - start\n",
    "            best_reward = best_node.reward\n",
    "            times.append(time_elapsed)\n",
    "            rewards.append(best_reward)\n",
    "        except:\n",
    "            pass\n",
    "    return times, rewards"
   ]
  },
  {
   "cell_type": "code",
   "execution_count": 24,
   "metadata": {},
   "outputs": [
    {
     "name": "stdout",
     "output_type": "stream",
     "text": [
      "Doing 0 for <class '__main__.BestofN'>\n",
      "Doing 1 for <class '__main__.BestofN'>\n",
      "Doing 2 for <class '__main__.BestofN'>\n",
      "Doing 3 for <class '__main__.BestofN'>\n",
      "Doing 4 for <class '__main__.BestofN'>\n",
      "Doing 0 for <class '__main__.MCTS'>\n",
      "Doing 1 for <class '__main__.MCTS'>\n",
      "Doing 2 for <class '__main__.MCTS'>\n",
      "Doing 3 for <class '__main__.MCTS'>\n",
      "Doing 4 for <class '__main__.MCTS'>\n",
      "Doing 0 for <class '__main__.CoT'>\n",
      "Doing 1 for <class '__main__.CoT'>\n",
      "Doing 2 for <class '__main__.CoT'>\n",
      "Doing 3 for <class '__main__.CoT'>\n",
      "Doing 4 for <class '__main__.CoT'>\n"
     ]
    }
   ],
   "source": [
    "bon_times, bon_rewards = test_kit(test_data, BestofN, max_number=7)\n",
    "mcts_times, mcts_rewards = test_kit(test_data, MCTS, max_number=5)\n",
    "cot_times, cot_rewards = test_kit(test_data, CoT, max_number=7)"
   ]
  },
  {
   "cell_type": "code",
   "execution_count": null,
   "metadata": {},
   "outputs": [],
   "source": [
    "import matplotlib as mpl\n",
    "\n",
    "mpl.rcParams['font.family'] = 'serif'\n",
    "mpl.rcParams['font.size'] = 14\n",
    "mpl.rcParams[\"figure.figsize\"] = (8, 5)\n",
    "mpl.rcParams['lines.linewidth'] = 2\n",
    "mpl.rcParams['xtick.labelsize'] = 13\n",
    "mpl.rcParams['ytick.labelsize'] = 13\n",
    "mpl.rcParams['legend.fontsize'] = 13\n",
    "mpl.rcParams['axes.grid'] = True\n",
    "mpl.rcParams['grid.alpha'] = .3\n",
    "\n",
    "from matplotlib import pyplot as plt"
   ]
  },
  {
   "cell_type": "code",
   "execution_count": 20,
   "metadata": {},
   "outputs": [
    {
     "name": "stdout",
     "output_type": "stream",
     "text": [
      "MCTS --> reward: 42.998952174186705 +- 24.332732303654165 ; time: -3.907421875 +- 11.707479547795954\n",
      "BoN --> reward: 30.899880409240723 +- 20.753673520925755 ; time: -15.506578947368421 +- 8.739041416273656\n",
      "CoT --> reward: 32.19703650474548 +- 21.913680990137877 ; time: -14.44375 +- 7.2389638523928275\n"
     ]
    },
    {
     "data": {
      "image/png": "iVBORw0KGgoAAAANSUhEUgAAAscAAAHICAYAAACiSEdmAAAAOXRFWHRTb2Z0d2FyZQBNYXRwbG90bGliIHZlcnNpb24zLjkuMiwgaHR0cHM6Ly9tYXRwbG90bGliLm9yZy8hTgPZAAAACXBIWXMAAA9hAAAPYQGoP6dpAABfm0lEQVR4nO3deXxTVdoH8N9NutGWtkCbhi6slk0oWoRBFGi1gmJxYXNg2GQTHUVsq8CAIjoKMgoKM24oCCIKBaoDyAgoq8sLUmhRVEBkKaULSxcI3XLv+0cWCUkhTZPc5Ob3/Xw6mZx7kjzpKfXpyXPOESRJkkBERERERFDJHQARERERkadgckxEREREZMTkmIiIiIjIiMkxEREREZERk2MiIiIiIiMmx0RERERERkyOiYiIiIiMmBwTERERERn5yR2AtxNFEQUFBWjcuDEEQZA7HCIiIiK6hiRJqKioQExMDFSq688NMzluoIKCAsTHx8sdBhERERHdwOnTpxEXF3fdPkyOG6hx48YADN/ssLAwmaMhURRRUlKCqKioG/5lSJ6P46ksHE9l4Xgqhy+MZXl5OeLj48152/UwOW4gUylFWFgYk2MPIIoiKisrERYWpth/4L6E46ksHE9l4Xgqhy+NpT0lsMr+DhARERER1QOTYyIiIiIiIybHRERERERGTI6JiIiIiIyYHBMRERERGXG3CiIiIvJaer0eNTU1cofh1URRRE1NDSorK71utwp/f3+o1WqnPieTYyIiIvI6kiShsLAQpaWlcofi9SRJgiiKqKio8MrTfiMiIqDVap0WO5NjIiIi8jqmxFij0SA4ONgrkzpPIUkSamtr4efn51XfR0mSoNPpUFxcDABo3ry5U56XyTERERF5Fb1eb06MmzVrJnc4Xs9bk2MAaNSoEQCguLgYGo3GKSUW3lVYQkTkgw4XlMsdApFHMdUYBwcHyxwJeQLTz4Gzas+ZHBMReShddS0y1hzEgEW7kZmViyvVerlDIvIo3jbLSa7h7J8DJsdERB7oaFEF7l+0B9kHzgAA1ufk4/7Fu3G0qELmyIiIlI3JMRGRh1m7Px9pi/fg1AUdRMnQJkrAyfM6pC3eg3X78+UNkIhIwZgcExF5kEP5ZcjMykVVrQi9KTM20osSqmpFZGTl4lB+mUwREhEpG5NjIiIP0jk2DIlx4VDVUUKnEoCuceHoHBvm3sCIyCckJyejVatWcochKybHREQeRBAEZPRrj2smjc1ECcjo154LkYiIXITJMRGRh+mTEGlz9tg0a9w7IVKewIh8DLdR9E1MjomIPExds8ecNSZyD0/aRnHbtm3QarUICAhAq1atcOjQIfTt2xdNmjTBzTffjE2bNgEAPvnkE3Tu3BkRERF4+OGHUVJSYvE85eXlePbZZ9G6dWtER0ejVatWGDBgAFasWAFRFPHbb7+hefPm+O6773D69GlotVpotVokJiaan2PXrl24++67ERcXh+bNmyMpKQnPP/88zpw549bviavxhDwiIg/UJyESG5+606r95hjWGhO50tGiCkz6eD9Onr8MwLCNYs6pi3hvZDckRDd2ezypqakoLCxEcnIyfvrpJ8yfPx///e9/ERwcjOHDh2Pw4MF47733UFVVhby8PBw7dgw9e/bE008/jVWrVgEArly5guTkZFRUVGDz5s3o0KEDiouLMWbMGIwZMwYDBw5E+/btcfbsWaSkpODEiRM4ceKERRy//vor+vfvjwULFuCxxx6DSqXChg0bMGTIELRt2xZjx451+/fGVZgcExF5IEEQ0Dk2XO4wiHzK2v35mJl9CLWiZHMbxVcf7oLB3eJki+/8+fOYNm0awsMNvxuefPJJrFu3Dm+//Tb+7//+DwDQrl07pKWlYc2aNZAkCYIg4I033sCBAwewceNGdOjQAQCg0WjwwQcfIC7Ovvfz1VdfobKyEiNHjoRKZSg8GDhwIB599FFzPErBsgoiIiLyed6wjWJwcDA6d+5svh8TEwMA6Natm0W/uLg4VFVVmUsrVq9eDbVajdTUVIt+sbGx+OabbxAaGnrD19ZoNACAxx57zGJW+d1338XDDz/s0PvxVEyOiYiIyOd5wzaKzZo1s7gfEBAAAIiMjLTZrtPpAADHjh1Ds2bNEBgYaPWcKSkp8PO7cSHBsGHDMH78eHz22Wdo06YNevbsiTfffBOlpaWOvBWPxuSYiIiIfJ43bKNoKmewt/1q1dXVDXpttVqNDz74AMeOHcOcOXNw4cIFPPPMM+jUqRMOHz7coOf2NEyOiYiIiKDcbRQTEhJQWlqKK1euWF0rKCiw2X4tURQhiiLatGmD559/HkeOHMGyZctw9uxZzJ071xVhy4bJMRERERGUu43isGHDAMC87ZvJ0aNHERsbi/z8fHNbSEgIamtrzfdnzpyJAwcO4KWXXsJTTz1l8fixY8eiWbNmiiut4G4VREREREZK3EYxIyMD69evx8yZM5GYmIh27drh7NmzmDBhAkaOHImEhARzQtyxY0ds3boV586dQ0VFBebPn29Orj/55BOMGDECd9xxByRJwieffILz58/jr3/9q5xvz+mYHBMREREZedo2irm5uejfvz8uXLgAvV4PrVaLrKwsfPfdd3j99dcBAK+//jr++9//IicnB0lJSThy5AgAoHv37pg4cSJeffVV7NixAy+99BL69euHyspKhIaGYsSIEZg5c6bF62VkZCAvLw8dO3ZEUFAQZs+eja5duyI0NBSXLl3C5MmTce7cOQBA69atkZWVhSFDhrj3m+JigiRJdZSekz3Ky8sRHh6OsrIyhIV571+VSiGKIoqLi6HRaOxaoECejeOpLBxPZZFzPCsrK/HHH3+gdevWCAoKcutrK5EkSaitrYWfn59Xlo7Y8/NQn3yNv52IiIiIiIyYHBMRERERGTE5JiIiIiIyYnJMRERERGTE5JiIiIiIyIjJMRERERGREZNjIiIiIiIjJsdEREREREZMjomIiIiIjJgcE5FdDheUyx0CERGRyzE5JqLr0lXXImPNQQxYtBuZWbm4Uq2XOyQiIiKXYXJMRHU6WlSB+xftQfaBMwCA9Tn5uH/xbhwtqpA5MiIiItdgckxENq3dn4+0xXtw6oIOomRoEyXg5Hkd0hbvwbr9+fIGSETkA5YtWwatVgu1Wo3k5GS5w/EJTI6JyMqh/DJkZuWiqlaE3pQZG+lFCVW1IjKycnEov0ymCImIfMOjjz6KwsJCxMfHyx2Kz2ByTERWOseGITEuHCrB9nWVAHSNC0fn2DD3BkZERORiTI6JyIogCMjo1x7XTBqbiRKQ0a89BKGO7JmIiMhLMTkmIpv6JETanD02zRr3ToiUJzAiInc4kwN8lGa49SDffPMN/vKXvyA6OhoxMTGYNWsWamtrLfp89tln6NGjBzQaDTQaDQYMGIB9+/aZr+t0Omi1WoSGhkIQBBw4cABjxoxBbGwstFotJk2ahMuXL7v7rXkMJsdEZFNds8ecNSYin5D7GXBiN5C3Wu5IzP744w+8+eab2LhxI4qKirBo0SLMmzcPTzzxhLnPvHnz8Le//Q1///vfUVRUhJMnT6J169bo3bs3vvnmGwBAcHAwCgsLkZmZCQCYNm0apk6dijNnzuCzzz7DsmXL8I9//EOW9+gJFJMcl5WVYdGiRejZsyeaNWuG8PBwdO7cGfPnz0dNTY1V/xMnTmDo0KGIjo6GRqPBvffei9zcXBkiJ/JcfRIisfGpO62+OGtMRIpUegooOAAUHAR+Xm9o+2md4X7BAcN1GZ05cwaLFy9GVFQUAGDIkCF44IEHsGTJEhw6dAgnTpzArFmzcN9992HMmDEQBAGNGjXCggULEBoaiokTJ0Kvt96rfsCAAbj11lsBAMnJyejZsyc+//xzd741j+IndwDOMnz4cGzfvh2rVq3Cgw8+CL1ejxUrVmDSpEnYvXs3NmzYYO575swZ3H777ejVqxd+//13BAQE4JlnnsEdd9yB77//Hl26dJHxnRB5DkEQ0Dk2XO4wiIjc482r//tv/HTs8jng/b5/Nr8o3y49bdq0QcuWLS3aBgwYgOzsbGzYsAGBgYHQ6/VIS0uz6BMYGIh+/frh008/xf79+9GjRw+L67169bK4Hx8fjx9++ME1b8ILKGbmWBRFTJ06FQ8//DBUKhX8/f0xfvx4PPLII9i4cSO2bt1q7jtjxgyUlpZiyZIlCA0NRUBAABYsWIDGjRvjySeflPFdEBERkWwGLQFUpnlDyfJW5We4LqPo6GirNq1WC8BQcnHs2DEAQPPmza36xcTEAIC5z9UiIy0/DQwICLCqY/YlikmOR4wYgVGjRlm133777QBgLkSvqKjA6tWr0bdvXzRt2tTcLzAwEGlpadi1axeOHj3qnqCJiIjIcyQOAyZ8bfvahK8N1xVIpVJMOugUiimrGD16tM326upqAECTJk0AAD/88AOqq6uRmJho1bdr164AgJ07dyIhIcFFkRIREZHnUwEQr7qVX1FRkVVbYWEhAKB169YICgoCABQUFFj1M7Uxv7kxxf+p8OOPP8LPzw8PPPAAAODIkSMArv+RA2eOiYiIfFRIFBCqAWK6AmkLDbehGkO7zI4fP45TpywXBW7atAkAMHDgQAwaNAhqtdrcZlJVVYUtW7agbdu26Natm9vi9VaKmTm25fTp0/jiiy8wZcoUxMbGAjDsagEYtjG5lqmttLS0zuesqqpCVVWV+X55eTkAQ82zKHrGX5a+TBRFSJLEsVAIjqeycDyVRc7xNL226cupwmKApw8B6gBAEICksYC+GvALBJz9WvXUpEkTTJ48GcuXL0dkZCTWrVuHDRs2YMKECejcuTMA4OWXX8asWbOwfPlyjBo1ClVVVcjMzDSXlQqCYP6eXf29u16bpzP9HFwvF6vPz6lik2NJkjB58mR06tQJr7zyitOed+7cuZgzZ45Ve0lJCSorK532OuQYURRRVlYGSZJYQ6UAHE9l4Xgqi5zjWVNTA1EUUVtb66KFY2rAYsszNSDTArXly5dj1qxZKCkpwZ133olHH30U99xzDwoKCuDn54dnn30WL7zwgvn7kJmZibi4OLz11lt49tlnIUkSunXrhu3bt6N79+7mfh06dDCXafTo0QOTJ0/Gc889h4SEBPNEYvPmzfHiiy9i/Pjxsrx3e9XW1kIURZw/fx7+/v42+1RUVNj9fIpNjp999lkcPnwY33//vbkGBwDCww3bUul0OqvHmNpMfWyZMWMG0tPTzffLy8sRHx+PqKgohIWFOSt8cpAoihAEAVFRUfyPrwJwPJWF46ksco5nZWUlKioq4OfnBz8/xaYyAIDx48dbJadDhgy57mNGjhyJkSNHXrfPtbtW1NTUwN/fH2fPnnUsUBn5+flBpVKhWbNmFjnf1epqt/l8zgrMk8ybNw+ffvopdu3aZd7ixKRdu3YAYHPw7SlWDwwMRGBgoFW7SqXiL3sPIQgCx0NBOJ7KwvFUFrnGU6VSQRAE8xc1jCRJ5u+jN34/TT8H1/tZrM/PqOJ+Oy1evBgLFy7Etm3b0LZtWwDA+fPnceLECQBAz549ERAQgLy8PKvHmtqSk5PdFS4REREReRBFJcdLly7FnDlzsGXLFnTs2NHcvmHDBrz44osAgMaNG2PYsGHYuXMnLly4YO5TXV2NDRs2oHfv3tzmhIiIiMhHKaas4rPPPsPEiRNx//33Izs7G9nZ2eZrBw8eREREhPn+vHnzsG3bNkycOBHLly83Hx9dUVGBf//73zJET0RERESeQDHJ8bx58yCKIjZs2IANGzZYXR8zZoz5/8fGxuL7779HZmYm2rRpAwC49dZb8e2339o8HISIiIiIfINikuODBw/Wq3+rVq2wdu1a1wRDRERERF5JUTXHREREREQNweSYiIiIiMiIyTERERERkRGTYyIiIiIiIybHRERERERGTI6JiIiIiIyYHBMRERF5uYkTJyIqKgqCIJhPBTb54IMP0KxZM+Tl5ckTXD2tWrUKWq0WarUaycnJbn99JsdEREREXm7JkiXYt2+fzWulpaUoKyuDTqdzc1SOGTFiBAoLCxEfHy/L6zM5JiIiIlKwzMxMlJWVoWfPnnKH4hUUc0IeERERkTPoRT1yinNQoitBVHAUkjRJUKvUcofVICEhIXKH4DU4c0xERERktO3kNvRf1x/jvhqHabunYdxX49B/XX9sO7lNtpiOHz+OqVOnomPHjtBqtWjatCkGDBiAAwcO3PCxI0aMqLMWuba2FrNmzUJcXBxiY2ORlJSE9evXIzk5GWq1GlqtFsuWLcO2bdug1WoREBCAVq1a4dChQ0hOTkZkZCTatm2LhQsX2nztffv24b777kPTpk3RtGlTJCUl4cMPP7Tqd+nSJfz9739HVFQUmjdvjpSUFOTm5jr0vXIGJsdEREREMCTG6TvSUaQrsmgv1hUjfUe6bAnyl19+iTVr1mDNmjUoLCzE8ePHER4ejj59+uD48ePXfeyqVavqrEV+4oknMG/ePCxcuBBnzpzBV199hffeew8///wz4uPjUVhYiEcffRSpqakoLCxEr169cOnSJbz00kvIyspCcXExJkyYgPT0dGRnZ1s8944dO9C7d2+0bt0a+fn5KC4uxtSpUzFp0iTMnj3bou/gwYOxYsUKrFu3DmfPnsWyZcvw7LPPoqKiomHfOAcxOSYiIiKfpxf1mLd3HiRIVtdMba/tfQ16Ue/u0KDRaDB79mx06dIFABAREYElS5bgypUrePvttx16zp9//hlLlizBwIEDMXToUABAVFQU3n//fVy8eLHOx50/fx4zZ85EVFQUVCoV0tPT4efnh88//9zcRxRFTJo0CVqtFm+99RaCg4Ph5+eH0aNHY/DgwZg7dy4KCwsBAJs2bcKWLVswYcIE9OnTBwDQqlUrvPDCC7hw4YJD762hmBwTERGRz8spzrGaMb6aBAmFukLkFOe4MSqDYcOG4bHHHrNoCw0NRUxMDH7++WeHnnPjxo0AgHvvvdeivWXLlmjdunWdj2vUqBFuueUW8/3AwEBERUWhoKDA3HbgwAEcPXoUKSkp8Pf3t3h89+7dUVNTg2+++ea6cdxxxx1Wj3UXLsgjIiIin1eiK3FqP2eqqqrCO++8g08//RSnT5+GKIqGWEpK0KZNG4ee848//gAAaLVaq2tarRanT5+2+bjIyEirtoCAANTU1JjvHzt2DACQlZWFzZs3W/Stra1FSEiIeea4rjgEQUB0dLS9b8epmBwTERGRz4sKjnJqP2f629/+hi+++AIff/wxBg0ahICAAACG8gN3U6nsLzqYMGEC3nzzTdcF4yIsqyBylzM5wEdphlsiIvIoSZokRAdHQ4Bg87oAAdpgLZI0SW6N6+LFi1i/fj3uuece/PWvfzUnxg1lKp0wzeBezVZbfbRr1w4AcObMGZvXt2/fjpKSkuvGIUkSiouLGxSHo5gcE7lL7mfAid1A3mq5IyEiomuoVWpM7zEdAKwSZNP9aT2muX2/44CAAAiCAEGwjKm6uhpFRXXXSN9IWloaAOB///ufRfupU6fMpQ6OuuWWW9C+fXts3boVly9ftri2d+9e9OvXD3q9YWHjwIEDbcbx3Xffobq6ukFxOIrJMZErlZ4CCg4ABQeBn9cb2n5aZ7hfcMBwnYiIPEJqy1QsSF4ATbDGoj06OBoLkhcgtWWq22MKCQnBfffdhy1btph3hNDpdHjqqadQWVnp8PPefPPNmDhxIjZs2IC1a9cCAM6dO4cpU6YgNja2QTELgoAlS5agqqoKjz32GEpLSwEAhw8fxtixY/Hss8+aa4zvu+8+9OvXDx988AF2794NADh58iSmT5+O0NDQBsXhcPySJFnvWUJ2Ky8vR3h4OMrKyhAWFiZ3OD5PFEUUFxdDo9HUqy7KZV4Mv+qOAEC66tbUp8y9MXkRjxtPahCOp7LIOZ6VlZX4448/0Lp1awQFBTn9+T3thLwLFy5gxowZ2LhxI2pqahAXF4eRI0fizTffRGFhIZo2bYouXbrg4MGDOHfuHEJCQhAaGoqTJ0/i0UcfxdatW63aAwMDUVtbizlz5uDDDz9EbW0tWrVqhddeew0vvvgiTp8+bd5DOTc3F/3798eFCxeg1+sRFRWFlStXQq1WY/jw4SgpKYFarUbTpk3x9ddf4+abbwZg2LVi9uzZ+O677xAQEACNRoPJkyfjscces5gJv3TpEqZNm4bVq1fDz88PrVu3xvz58zFq1CgUFBSgadOmWLlyJVJTbf9xYs/PQ33yNSbHDcTk2LN43H9889YAnz8OiLXW11R+wEPvAInD3B+Xl/C48aQG4Xgqi5KTY18jSRJqa2vh5+cHQRDQsWNHhIaG1nl4iKdxdnLM305ErpQ4DJjwte1rE75mYkxERLL5+9//jv3791u0FRcX4/jx4+YDOXwRk2Mit1Fdc0tERCSf33//Hc8++6x5YZ/pOOiIiAhkZGTIHJ18+F9pIlcLiQJCNUBMVyBtoeE2VGNoJyIiksmTTz6JkJAQdO/eHTExMbj55psRHByM77//HjExMXKHJxseAkLkauGxwNSfAHUAIAhAt0cBfTXgFyh3ZERE5MPS0tKQlpZmVXPs65gcE7nD1YmwIDAxJiIi8lAsqyAiIiIiMmJyTERERERkxOSYiIiIvBKPaiDA+T8HTI6JiIjIq/j7+wMwHKNMZPo5MP1cNBQX5BEREZFXUavViIiIQHFxMQAgODiYuyw0gFy7VVRW6xEU4Pix3JIkQafTobi4GBEREVCrnXPEN5NjIiIi8jparRYAzAkyOU6SJIiiCJVK5ZbkWJQklOlqcLlaj5AANSKC/Rv0uhEREeafB2dgckxEREReRxAENG/eHBqNBjU1NXKH49VEUcT58+fRrFkzqFSurbg9ce4y5vz3ZxSU6iBJht1NY5sEY87Am9EqMqTez+fv7++0GWMTJsdERETktdRqtdOTI18jiiL8/f0RFBTk0uR47f58zMw+hFpRgl78cxHd2UuX8OC7e/Hqw10wuFucy17fXlyQR0REREQudSi/DJlZuaiqFS0SYwDQixKqakVkZOXiUH6ZTBH+ickxEREREblU59gwJMaFQ1VHabFKALrGhaNzbJh7A7MVi9wBEBEREZGyCYKAjH7tIdaxJbEoARn92nvEriNMjomIiIjI5fokRNqcPTbNGvdOiJQnsGswOSYiIiIil6tr9tiTZo0B7lZBRERERG7SJyESG5+606r95hj5a41NmBwTERERkVsIgoDOseFyh3FdLKsgIiIiIjJickxEREREZMTkmIiIiIjIiMkxEREREZERk2MiIiIiIiMmx0RERERERkyOiYiIiIiMmBwTERERERkxOSYiIiIiMmJyTERERERkxOSYiIiIiMiIyTERERERkZEik+OPP/4YERERGDt2bJ19zp07h/Hjx6N58+bQaDTo3bs3duzY4bYYiYiIiMjzKCo5PnfuHIYMGYJZs2ahrKyszn4VFRXo27cvfv31Vxw6dAiFhYUYMGAAUlNTsXXrVjdGTERERESeRFHJ8ejRo9G2bVts2bLluv3+9a9/4fDhw1iyZAkiIyOhUqkwY8YMdO3aFZMnT0Ztba2bIiYiIiIiT6Ko5Pj999/Ha6+9hsDAwDr7SJKEDz/8EO3bt0enTp0srg0aNAjHjx/H9u3bXR0qEREREXkgRSXHcXFxN+xz7NgxFBQUIDEx0epa165dAQA7d+50emxERERE5PkUlRzb48iRIwCA5s2bW12LiYkBABw9etStMRERERGRZ/CTOwB3My3UCw4OtrpmaistLa3z8VVVVaiqqjLfLy8vBwCIoghRFJ0YKTlCFEVIksSxUAiOp7JwPJWF46kcvjCW9XlvPpccN9TcuXMxZ84cq/aSkhJUVlbKEBFdTRRFlJWVQZIkqFQ+98GI4nA8lYXjqSwcT+XwhbGsqKiwu6/PJcfh4eEAAJ1OZ3XN1GbqY8uMGTOQnp5uvl9eXo74+HhERUUhLCzMydFSfYmiCEEQEBUVpdh/4L6E46ksHE9l4Xgqhy+MZVBQkN19fS45bteuHQDg7NmzVtcKCgoAAAkJCXU+PjAw0OZuGCqVSrE/UN5GEASOh4JwPJWF46ksHE/lUPpY1ud9KfM7cB033XQTYmJikJeXZ3XN1JacnOzmqIiIiIjIE/hcciwIAsaNG4fffvsNhw8ftri2bt06tGnTBikpKTJFR0RERERy8rnkGACee+45dOzYEZMmTcK5c+cgiiLmzp2L3NxcvPPOO/Dz87lqEyIiIiKCwpLjVatWQavVonv37gCA1atXQ6vVWh340bhxY+zatQvt27dHly5doNVqsWnTJmzduhX9+vWTI3QiIiIi8gCKmiIdMWIERowYYVffyMhIfPjhhy6OiIiIiIi8iaJmjomIiIiIGoLJMRERERGREZNjIiIiIiIjJsdEREREREaKWpBHRMqgF/XIKc5B8eVi+FX54a7IuxR7ahMREXkWJsdE5FG2ndyGeXvnoUhXZG6L/jka03tMR2rLVBkjIyIiX8CpGCLyGNtObkP6jnSLxBgAinXFSN+Rjm0nt8kUGRER+Qomx0TkEfSiHvP2zoMEyeqaqe21va9BL+rdHRoREfkQJsdE5BFyinOsZoyvJkFCoa4QOcU5boyKiIh8DZNjIvIIJboSp/YjIiJyBJNjIvIIUcFRTu1HRETkCCbHROQRkjRJiA6OhgDB5nUBArTBWiRpktwcGRER+RImx0TkEdQqNab3mA4AVgmy6f60HtOgVqndHhsREfkOJsdE5DFSW6ZiQfICaII1Fu2aYA0WJC/gPsdERORyPASEiDxKastUpMSnWJ6Q1+4u+Pv5yx0aERH5ACbHRORx1Co1umu7QxRFFBcXs5SCiIjchmUVRERERERGTI6JiIiIiIyYHBMRERERGTE5JiIiIiIyYnJMRERERGTE5JiIiIiIyIjJMRERERGRkcPJcWFhIVasWIEvvvjC3LZ3717cdddduOWWW/Dmm286Iz4iIiIiIrdxODlesmQJJkyYgM2bNwMAysrKMHDgQOzYsQOnT59GRkYG1qxZ47RAiYiIiIhczeHkePPmzVi+fDneffddAMAnn3yCkpISvPfeezh//jzeeecd/Oc//3FaoEREREREruZwcnz69GkMHz7cfH/9+vWIj4/HxIkTAQDjx4/H8ePHGx4hEREREZGbOJwci6Jo/v9lZWXYvXs3Bg8ebG5Tq9UWfYiIiIiIPJ3DyXFERAQOHz4MAFixYgVqa2sxaNAg8/Vz584hKCio4RESEREREbmJn6MPHDFiBPr164eePXti06ZN6NChA+68804AQHFxMaZOnYpbb73VaYESEREREbmaw8lxZmYmfvnlF2RnZ6NNmzZYuXIlAECv10Or1QIAVq1a5ZwoiYiIiIjcwOHkODAw0JwQX421xkRERETkrVx6Qt4333zjyqcnIiIiInIqlybHI0eOdOXTExERERE5ld1lFePGjav3k5eVldX7MUREREREcrE7Of7oo4+s2gRBgCRJdT5GEASHgiIiIiIikoPdyXFkZCT27dtnvl9eXo5Jkybh7rvvRv/+/RETEwNBEFBQUID//e9/yMrKwscff+ySoImIiIiIXMHu5LhHjx5o2bKl+f6UKVPw3HPP4eGHH7bo16ZNG9x5553o0aMH3nnnHfTo0cN50RIRkSwOF5SjU0yY3GEQEbmc3QvyNm7caHF/8+bNeOihh+rsn5aWhh07djgaFxGRxzlcUC53CG6nq65FxpqDGLBoNzKzcnGlWi93SERELuXwbhUlJSWoqamp83pNTQ0uXrzo6NMTEXkMX00QjxZV4P5Fe5B94AwAYH1OPu5fvBtHiypkjoyIyHUcTo7j4uIwe/bsOq+/8MILiI+Pd/TpiYg8gq8miGv35yNt8R6cuqCDaFx3LUrAyfM6pC3eg3X78+UNkIjIRRw+Ie/JJ5/EE088gU2bNqF///6Ii4tDVVUVCgoKsGHDBpw4cQLvvfeeM2MlInKrtfvzMTP7EGpFyWaC+OrDXTC4W5y8QbrAofwyZGbl2rymFyXoRQkZWbloF90YXeLC3RwdEZFrOZwcT548Gfn5+Zg3bx5++ukn87ZtkiRBrVbjhRdewIQJE5wWKBGRO/lygtg5NgyJceH46UyZ+Y+Cq6kEoEtsODrHcoEeESmPw8kxAPzzn//EuHHjkJ2djWPHjkEQBNx0000YNGgQWrVq5aQQiYjcz5cTREEQkNGvPcYs3WvzuigBGf3acy97IlIkh5PjFStWAAB69uyJjIwMpwVEROQJfD1B7JMQafOPA9MfBb0TIuULjojIhRxekDd27Fj885//xKlTp5wZDxGRxzAliKpr8l+VAHSNU3aCaPrj4NpZc6X/UUBE5PDMcaNGjfDjjz8iLEx5HykSEQF1zx77SoLYJyESG5+606r9Zh4GQkQK5nBy3KJFC4SEhFy3z7fffos77rjD0ZcgIpKdLyeIgiCgc6yyFhsSEd2Iw2UVw4cPx8qVK6/bZ+jQoY4+PRGRRzAliNd+KX3WmIjIVzk8c9yrVy/MmjULu3fvRmpqKrRaLVQqy1y7urq6wQESEREREbmLw8lxv379AAB79+7FsmXLnBYQEREREZFcHE6OQ0JCkJmZWed1SZKwYMECR5+eiIiIiMjtHE6OQ0NDMXv27Ov24fHRRERERORNHF6Qt3Pnzhv2OXz4sKNPT0RERETkdg4nx+3atbthn7feesvRp3eLtWvXolu3btBoNIiPj0dmZiZ0Op3cYRERERGRTBxOju3x/vvvu/LpG2Tp0qUYNmwY0tPTUVxcjF27duGLL75AWloa9Hq93OERERERkQwalBxv3rwZvXr1QmhoKNRqtdVXUVGRs+J0qosXLyI9PR1DhgzB3/72NwBA69at8cYbb2D79u1YsWKFzBESERERkRwcTo63bduGtLQ0nDhxAt26dYOfnx/69OmDPn36oGXLlpAkCbfffrszY3WaNWvWoKysDIMGDbJov++++9CoUSN88MEHMkVGRERERHJyeLeKefPm4fHHH8eiRYugUqkQExOD7du3m6/PnDkTwcHBTgnS2Xbt2gUASExMtGj39/dHp06d8MMPP6CqqgqBgYFyhEdEREREMnE4OT5w4AC++OILq1PxTGbPno1u3bph5syZDgfnKkeOHAEANG/e3OpaTEwM9u/fj+PHj6Njx45W16uqqlBVVWW+X15eDgAQRRGiKLooYrKXKIqQJIljoRAcT2XheCoLx1M5fGEs6/PeHE6OAwICEBISYr4vSRL0ej3UarX5ekFBgaNP71JlZWUAYHNm29RWWlpq87Fz587FnDlzrNpLSkpQWVnpvCDJIaIooqysDJIk1fmHG3kPjqeycDyVheOpHL4wlhUVFXb3dTg5bty4MY4fP442bdoAMMzCbt26Fffeey8AYPv27fDzc/jpPdaMGTOQnp5uvl9eXo74+HhERUUhLCxMxsgIMPwDFwQBUVFRiv0H7ks4nsrC8VQWjqdy+MJYBgUF2d3X4ey1V69eePDBB/H666+jf//+uOuuu/DII49g1KhRAICPP/4Yffv2dfTpXSo8PBwAoNPprOqKTfscm/pcKzAw0GYtskqlUuwPlLcRBIHjoSAcT2XheCoLx1M5lD6W9XlfDn8Hxo4di1atWmHz5s0AgGeeeQZBQUF4++238fbbb8PPzw///Oc/HX16lzIdYHL27FmrawUFBVCpVOYZcSIiIiLyHQ7PHCcnJyM5Odl8PzY2Fnl5ecjKyoK/vz/S0tIQGxvrjBidrk+fPli1ahXy8vLQqVMnc3tNTQ1++eUX9OzZs17T70RERESkDA7PHP/yyy9WbdHR0XjyySfx2GOPeWxiDABDhw5FWFgYsrOzLdo3b94MnU6H8ePHyxQZEREREcnJ4eT4rrvucmYcbtW0aVMsWLAAa9euxSeffAIAOHHiBDIzM5GSkoIxY8bIHCERETnT4YJyuUMgIi/hcHJcVFSEhIQE/OMf/8CBAwecGZNbjB8/Hp999hneeOMNaDQa3HnnnRg4cCA2btxo3o6OiIi8m666FhlrDmLAot3IzMrFlWq93CERkYdzuOY4Ojoaq1atQlZWFgYPHgyVSoWhQ4di6NChSEpKcmaMLmOKl4iIlOdoUQUmfbwfJ89fBgCsz8lHzqmLeG9kNyREN5Y5OiLyVA7PHE+fPh3du3fH/Pnzcfz4cXz66acQRRFDhw5F27ZtMWPGDPz444/OjJWIiMgua/fnI23xHpy6oIMoGdpECTh5Xoe0xXuwbn++vAESkcdyODl++umnLe53794dc+fOxTvvvIOmTZti/vz5+Mtf/tLgAImIiOrjUH4ZMrNyUVUrQm/KjI30ooSqWhEZWbk4lF8mU4RE5MkafISdKIr45ptvkJWVhezsbJw/fx6SJCEmJgaDBw92RoxERER26xwbhsS4cPx0pgzX5MYAAJUAdIkNR+dYnmpKRNYcTo63bdtmlRDHxsZiypQpGDJkCO644w5nxklERGQXQRCQ0a89xizda/O6KAEZ/dpDEAQ3R0ZE3sDh5Lhfv34QBAHR0dF45plnMHjwYNx+++3OjI2IiMghfRIibc4em2aNeydEyhccEXk0h2uON2zYgFGjRqGmpga5ubnIy8vDuXPnnBkbERGRQ0yzx9eWVXDWmIhuxOGZ4/vvvx/3338/ampqsHXrVmRlZWHWrFlITEzEkCFDMHjwYGg0GmfGSkREZLc+CZHY+NSdVu03x7DWmIjq1uAFef7+/hgwYAAGDBhgTpRnz56NKVOm4M4778T27dudEScREVG9CIKAzrHhcodBRF7G4bKKKVOmWNzPy8vDSy+9hPT0dOzfvx96vR65ubkNDpCIiIiIyF0cnjleu3YtJkyYgDVr1iArKwvHjh2DJElo0qQJxo4diyFDhuCee+5xZqxERERERC7lcHJcWFiIW2+9FZIkoVmzZnj00UcxdOhQ3H333fDza3C1BhERERGR2zmcxfr7+5tniO+66y6o1WpnxkVERERE5HYOJ8etW7fGe++958xYiIiong4XlKOTD+++4Ovvn4icz+EFeb/++qsz4yAionrQVdciY81BDFi0G5lZubhSrZc7JLfy9fdPRK7jcHJssnbtWowePRr33XcfAOC3337DunXrIIpig4MjIiJrR4sqcP+iPcg+cAYAsD4nH/cv3o2jRRUyR+Yevv7+ici1HE6Oa2trkZaWhkceeQQrV67Et99+CwCoqKjAyJEjkZaWhsrKSqcFSkREwNr9+UhbvAenLujMp7+JEnDyvA5pi/dg3f58eQN0MV9//0Tkeg4nx2+88Qa2b9+OjIwMrF27Fo0aNQIA3HbbbTh58iTKy8vx1ltvOS1QInKOwwXlcodADjqUX4bMrFxU1YrQX3Musl6UUFUrIiMrF4fyy2SK0LV8/f0TkXs4nByvWrUKH3/8MebPn49BgwZZ7Fah0WiwbNkyfPLJJ04JkogajjWa3q9zbBgS48KhEmxfVwlA17hwdI5V5gI1X3//ROQeDifH+fn5ePjhh+u8npCQgIsXLzr69ETkRKzRVAZBEJDRrz2umTQ1EyUgo197CEId2aOX8/X37yv46RbJzeHkWJIk1NbW1nldp9Ox5pjIA7BGU1n6JETanD01zZr2ToiUJzA38fX3r2T8dIs8hcPJ8c0334x///vfdV5/5ZVX0KVLF0efnoicgDWaylPX7KmvzJr6+vtXKn66RZ7E4UNAnn76aQwbNgw7duzAgAEDUFVVhTVr1uDUqVNYvXo1cnJykJ2d7cxYiaieTDWaP50ps/lRtEoAusSyRtPb9EmIxMan7rRqv9lHDsPw9fevNGv352Nm9iHUipLNT7defbgLBneLkzdI8ikOJ8dDhgzB888/j5dffhkbN26EJEkYPnw4JEmCIAh48cUX8cADDzgzViKqJ9Ms25ile21e52ybdxIEAZ1jw+UOQza+/v6VxPTpli16UYJelJCRlYt20Y3RJY5jTu7hcHK8a9cu3H333ejfvz+ysrJw5MgRAECHDh0watQo3HLLLc6KkYgawFSjee3ssWnWmDWaRCQXfrpFnsjh5Dg5ORlNmjTBkiVLsHDhQmfGREROVNfssRJmjfWiHjnFOSjRlSAqOApJmiSoVeobP5CIPAI/3SJP5HBy7O/vj7y8PMTGxjozHiJyASXWaG47uQ3z9s5Dka7I3BYdHI3pPaYjtWWqjJERUX3w0y3yNA7vVtGiRYsbJsanTp1y9OmJyIlMNZrXfnnrbMy2k9uQviPdIjEGgGJdMdJ3pGPbyW0yRUZE9cUdSMjTODxznJaWhi+//BIDBgyos0/Pnj1RUFDg6EsQEVnRi3rM2zsPEqwLFCVIECDgtb2vISU+hSUWRF5CiZ9ukfdyODmeMGECnnzySeTk5CA1NRVarRYq1Z8T0ZIkQa/nBt5E5Fw5xTlWM8ZXkyChUFeInOIcdNd2d2NkROQo7kBCnsTh5LhLly4QBAG7du3C7NmznRkTEVGdSnQldvUrulx3Ak1ERFQXh5PjoKAgPPLII3VelyQJWVlZjj49EcnAG3Z/iAqOsqvf/H3zEeQXxMV5RERULw4nx+Hh4Vi2bNl1+3z11VeOPj0RuZm37P6QpElCdHA0inXFNuuOTUqrSpG+Ix0Lkhd4VPxEROTZHN6tYuXKlTfsw+SYyDt40+4PapUa03tMv2E/U+L82t7XoBe5/oGIiOzjcHJ8991337BPYmKio09PRG5yo90fAM9LMFNbpmJB8gI0CWxy3X5XL84jIiKyh8PJMREpQ312f/AkqS1T8Vz35+zqa+8iPiIiIibHRD7O3sTRExPM6JBou/rZu4iPiIiIyTGRj7M3cfTEBNO0OE+A7RO0BAjQBmuRpElyc2REROStmBwT+ThvTjCvXpx3bfym+9N6TPO47eiIiMhzMTkm8nHenmCaFudpgjUW7dHB0dzGjYiI6s3hfY6JSDlMCaatfY6n9Zjm8QlmastUpMSnePwBJp7ocEE5OsWEyR0GEZHHYHJM5CBvOE2uPrw9wVSr1Oiu7S53GF5DV12L5z//CetyzmBItzi8/GBnNArwjrEmInIlJsdEDvCW0+TqiwmmbzhaVIFJH+/HyfOXAQDrc/KRc+oi3hvZDQnRjWWOjohIXqw5JqonbzpNjuhaa/fnI23xHpy6oINoPPdFlICT53VIW7wH6/bnyxsgEZHMmBwT1YM3niZHZHIovwyZWbmoqhWhFy1/hvWihKpaERlZuTiUXyZThERE8mNyTFQP3nqaHBEAdI4NQ2JcOFS2d+2DSgC6xoWjcywX6BGR72JyTFQP3nyaHJEgCMjo1x6i9QcfAAzlFRn92kMQ6sieiYh8AJNjonrw5tPkiACgT0Kkzdlj06xx74RIeQIjIvIQTI6J6sGbT5MjAuqePeasMRGRAbdyI6oH02ly6TvSIUCwWJjnDafJEQGG2eONT91p1X4zDwMhImJyTFRf3n6aHJEgCOgcGy53GEREHonJMZEDvP00OSIiIrKNyTGRg3iaHBERkfJwQR4REZGSnckBPkoz3BLRDSkuOf7f//6H2NhYJCcnX7efTqdDRkYG4uPjodFo0K1bN6xdu9Y9QRIREblL7mfAid1A3mq5IyHyCopJji9fvownnngCkydPRkFBwXX76vV6pKWlYePGjdi9ezeKi4sxdepUDBs2DEuXLnVTxERERC5SegooOAAUHAR+Xm9o+2md4X7BAcN1IrJJMTXH6enpqK6uRl5eHsLDr78Ke/ny5di+fTs2bdqEVq1aAQBGjRqF7OxspKen4+GHH0aTJk3cEDUREZELvNnlqjvGvasvnwPe7/tn84tlbg2JyFsoZub4+eefx7JlyxAWduN9OpcsWYKQkBD079/fon3w4MEoKytjeQXdGGv4HHK4oFzuEIh8w6AlgMo0/yVZ3qr8DNeJyCbFJMdxcXF29ausrMTevXvRqVMnqNWW22517doVALBz506nx0cKwxq+etFV1yJjzUEMWLQbmVm5uFKtlzskImVLHAZM+Nr2tQlfG64TkU2KKauw1++//w5RFNG8eXOrazExMQCAo0ePujss8galpwDdeQCCZQ1f1+EAJCC4GRDRQs4IPdLRogpM+ng/Tp6/DABYn5OPnFMX8d7IbkiIbixzdES+QAVAvOqWiK7H55LjsjJDjVVwcLDVNVNbaWlpnY+vqqpCVVWV+X55ueFjYlEUIYr8pSM3URQhSZJLxkJ1VQ2fZDwsWrp8DsJVNXziCxed/rrebF1OPmZ+/jP0ogTR+ImuKAEnz+uQtngPXnmoMwYlxdb5eFeOJ7kfx9PNgptBCNEA4bGQbh0F4cDHQNkZSMHNACeMAcdTOXxhLOvz3jwqOb58+TKys7Pt7v/QQw8hNDTUhRFZmzt3LubMmWPVXlJSgsrKSrfGQtZEUURZWRkkSYJK5dyqoaC7/oXw7dMhSHoIxto9060kqFGWMg+VxcVOfU1v9mvRZTy79leb1/SiBL0oIXNtHiL9q9EhOsRmP1eOJ7kfx9Pd/IERXwMqf0AQgLgBgFgDVPoDlQ3/XcXxVA5fGMuKigq7+3pUclxSUoJRo0bZ3f/o0aO46aab6vUapp0sdDqd1TVT2/V2u5gxYwbS09PN98vLyxEfH4+oqCi7FgOSa4miCEEQEBUV5fx/4JoJkNp2h7Ak2eqSNOFrhDXvCv4E/CkqSkJi7Fn8VFBmnjW+mkoAOseGo3fnVhAEweZzuHQ8ye04nsrC8VQOXxjLoKAgu/t6VHLcokULXLxo/8fSjiSjbdu2hUqlwtmzZ62umfZHTkhIqPPxgYGBCAwMtGpXqVSK/YHyNoIgOH08DheUo1NMmGH2BcC1NXwqQQA4/lYy+rfHmKV7bV4TJSCzX3urhbHXcsV4knw4nsrC8VQOpY9lfd6XRyXHKpUKERERLn2NoKAg9OjRA4cOHYJer7f4D3NeXh4A3PB0PfIduupaPP/5T1iXcwZDusXh5ZSmaBSqAcJigaTRQM4KoPwMEBIld6geqU9CJBLjwvHTGcvZY5UAdIkNR++ESPmCIyIiskGZfx7cwIQJE3D58mVs2bLFon3t2rUIDw/HkCFDZIqMPMnRogrcv2gPsg+cAWDYZeH+5cdxbMT3wMTtwG3jDLdTfwLC615U5ssEQUBGv/ZWZRWiBGT0a19nOQUREZFcPGrm2F3Gjh2LlStXYurUqejYsSNatWqFlStX4vPPP8cHH3zA0/EIa/fnY2b2IdTa2GXh/rf34dWHu2BwtzhDmYWfdZkN/alPQiQ2PnWnVfvNMazQJiIiz6OY5Hj37t0YOnSo+f53330HrVYLADh58qRFnbBarcamTZvw/PPP484770R1dTXi4uKwZs0azhoTDuWXITMr1+Y10y4LGVm5aBfdGF3irn9UORlmjzvHeu73yVxPTkREBAUlx71790ZhYaHd/YODg/HGG2/gjTfecGFU5I06x4bZrJM1MdXLdo5lQuVSZ3IgbH0BfklPA5q7nf70VvXkD3ZGo4DrLw4kIiLl88maY6LrqatO1oT1sm6S+xmEE7vR6MgXTn/qU4f24NfXknHs4G4AxnryxbtxtMj+fTCJiEiZmBwT2WDaZUF1Tf6rEoCucdxlwWVKTwEFB4CCg+YjuoN+/xI4m2toLz3V4JdYuz8fO7IWI0l/CA+pDMnx1af2rduf3+DXICIi76WYsgoiZzLNHl+7R2+DZo3P5ABbXwDueQmITXJSpApz1RHdgOF7rLpy3vLglRfLHHvu0lM4euIklq3NxfKA7wAAA9XfY62+DwRIuCg2xhkxivXkREQ+jskxeRRPWhzl9F0Wcj8DTuwG8lYzOa7LoCXA548DYi1gPqLbSOUHPPSO48/9ZhckANgUCHPJTFOUY1PgTHOXNlWrWE9OROTjmByTR/DExVFO2WWh9BSgOw9AMJcJ4Kd1QNfhACQguBkQ0aKhoSpH4jAgsh3wfl/raxO+BmJucfy5r0q8TeUyptsaSY3MmsdYT05EREyOSX5Hiyow6eP9OHn+MgDD4qicUxfx3shuSIhuLHN0DWSjTACXz1kmf46WCSie4WhuCQIE1LE6sj6uk3g/VP0SfkFr1pMTEREX5JG81u7PR9riPTh1QWd12IYiFkcNWmIoBwAAc4JnvFX5Ga6TpZAoIFQDxHSFeP8C1ER1hhSiceoR3ZLxDxVR+nOGmLPGREQEcOaYbsCVNcA+cdiGK8sElCo81nAktzoAkCRciBsATbMICAGNGv7cpsQ7LBZn2gxFk18/g//ls3hjeCpqQ5vz1D4iImJyTLa5owbY9w7bMJQJ/HlLdTIdyS1Jzj2i25h4C+oAxAoCcPcTgL4aHXgEOBERGbGsgqwcLarA/Yv2IPvAGQCuOyDBZw7buKpMAGkLDbehzi0ToHrwCzQk3IBzE28iIlIEzhyThbX78zEz+xBqRclmDfCrD3fB4G5xTns902Eb184em2aNFbE46uoyAUEAuj0K6KuZlBEREXkgzhyTmakGuKpWhP6a6Vy9KKGqVkRGVi4O5Ttvd4W6Zo8VM2tswtlKIiIir8CZYzKTqwbY6YdtEBERETmIM8deRi/qsa9wH748/iX2Fe6DXtTX2fdwQXm9nluuGmDTYRvXfilm1pjq70wO8FEaUHBA7kiIiMjHcObYi2w7uQ3z9s5Dka7I3BYdHI3pPaYjtWWqua0hO034RA0weT7jUdtC3mogKV3uaIiIyIdw5thLbDu5Dek70i0SYwAo1hUjfUc6tp3cBqDhO034TA2wh6nPJwKKVXrKMFNccPDPo7Z/Xge/kp8NbaWn5IyOiIh8BGeOvYBe1GPe3nmQbByhKxkP131t72u4UJKA5z8/3OCdJlgD7F72fiKgeDaP2j6PyHWD/mzmUdtERORinDn2AjnFOVYzxleTIKFQV4gZX37hlJ0mPK0GuL61097E3k8EfIKNo7YF463Eo7aJiMhNmBx7gRJdiV39Wmr0UNWRv6oEoGucd502p6uuRcaagxiwaDcys3JxpVpZpQY3+kQAAF7b+5rvlFgkDjMcqW2DNH6b4ToRKR7LzEhuLKvwAlHB9p2kNrxbZ7xyotrmNW+rGT5aVIFJH+/HyfOXARhqp3NOXcR7I7shIbqxzNE5h72fCOQU56C7trsbI/MEhiO2DUVDdWyfQkSKwzIz8gScOfYCSZokRAdHQ4DtxFaAAG2wFo8mpSAxLtxq9tg0a+wtO02s3Z+PtMV7cOqCzmbt9Lr9+fIG6CT2fiJgbz9FsDpq+xboG0UCId7xs0tEjmOZGXkKJsdeQK1SY3qP6QBglSCb7k/rMQ1+aj+v32lCjlP65GLvJwL29vNm5rpy01HbE7cDt42DNP5rlIzcDoTFyhsgEbkUy8zIk7CswkuktkzFguQFNj9umtZjmvnjJm/faUKuU/rkYPpEoFhXbPM/CAIERAdHI0mTJEN07mF7T+6rjtYWBEAdIF+AROQWLDMjT8Lk2IuktkxFSnwKcopzUKIrQVRwFJI0SVCr/jzgw7TThCfTi/o634Npn+UxS/fafKw3zYLfiOkTgfQd6cbK2j8T5Ks/Ebh6fJXEF+rKicg+LDMjT8Lk2MuoVWqv/qvZnsUWvnRKn72fCCjN2v35mJl9qMF7chORMrDMjDwJk2NyG9Nii2tLCEyLLRYkL0Bqy9Q6Z4+VNGt8NXs+EVASU125LXpRgl6UkJGVi3bRjXFzDGeQiXwBy8zIkzA5Jrew95S/lPgUqFVqr6+dri9v/0SgPupTVy5J3MaNyBf4epkZeRbuVkFuUZ/FFoDnndJHzmP6ZMBWYgwo9xMCIro+U5mZJlhj0R4dHG3+ZJHIHThzTG7hbYstrrdokBrOl+rKich+vlZmRp6JyTG5hTcttuAJTa7na3XlRGQ/XyozI8/E5JjcwlsWW9i7aJAaztfqyomIyDuw5pjcwt5T/uT86IwnNLkX68qJiMgTMTmm6zIf6+sEnr7Yor6LBomIiEh5WFZBNumqazErOw9f/LYHPRP88fidt+L22O4Nntn15MUW3rZokIi8Axf4EnkXJsdk5WhRBcas/hBlwWsR3LIMedXA498AzQI1mHX7jAbP8HrqYgunLBo8kwNsfQG45yUglpvVE/k6LvAl8j4sqyALa/fnY+DSd1Ae9iEEvzKLa+cqi/HMjmew7eQ2maJzLdOiwWtrok0ECNAGa6+/aDD3M+DEbiBvtYuiJCJn0Yt67Cvchy+Pf4l9hfucvp7AtMD32nIt0wJfxfwuLTgAfJRmmBwgUgAmx2RmONb3ANRR/wUAXLsuShAASQL++f1cRS5Kc3jRYOkpw38cCg4CP683tP20znC/4IDhOhF5lG0nt6H/uv4Y99U4TNs9DeO+Gof+6/o7LWH1pQW+Qh4nBUhZmByTWefYMCS0LIHKv8wqMTYRBOB8VbFiF6U5tGjwzS7A+8nA+32By+cMbZfPGe6/n2y4TkQewx0zuopf4Ft6Cig4CL+Sn4GfOClAysKaYzITBAH3dg3GR0dv3FfJi9LqvWhw0BLg88cBsRYwzxIZb1V+wEPvuCNs5bu6nhtgbTc55EYzugIEvLb3NaTEpzRo0ZziF/i+2QUqAJEAJNMnbaZJAZMXy2w9ksjjceaYLPRu3caufp5wkp0rmRYNDmgzAN21N9ilI3EYMOFr29cmfG24Tg13dT03a7vJQe6a0fWmU0EdMmgJJJVhfk2wNSkwaIk8cRE5AWeOyUK36G6ICIjCxaoSm6UVnnKSnedSARCvuqUGKT0Fv5JjgL4ZcCjL0Jb72Z/X89YAXYcDkIDgZkBEC1nCJO/hrhldbzkV1GGJwyA1S4CwJNn62oSvgZhb3B0RkdNw5pgsqFVqvHD7jDoTY0D+k+w8UkgUEKoBYroCaQsNt6EaQzs5TLWoKyLXDYZqSTJw5YKhsbLU8AUY2ljbTfXgrhldbzgV1FnMZRVMKUgh+JNMVu5pdQ8WJi9EdHC0RbunnGTnkcJjgak/ARO3A7eNM9xO/cnQTg4TH34PkmBH8sCPcclOTtmy0U6efipog4VEQt8o0jBLzEkBUhBBkiTrz3vIbuXl5QgPD0dZWRnCwsLc86JuOmjCG091EkURxcXF0Gg0UKn4t5+3E0URF37ejsh1g67fcdJOfozrBTzl36dptwoAFiUPpoTZ2YmrN/4utYcoiig+mw+NNhYqtdqw16e+GvALlDs0qidP+bfpSvXJ11hz7I2uXozkwuTYU0+yI19lq46btd1Uf6YZXVsn103rMc3pM7qK/l2qDvhzU3xBYGJMisDk2FuUngJ05wEIlgdNXLsYiccXk8KIjZpBCtFACI8FOj4AbH/FcCFlJvDLf4HyM/wYl+qt3ls2EpHPYHLsLSwWG11nT0k3zSoTuYsYqoX0dB4E/yDDzFTPJwwX/IOAO5/hx7jkMEXP6BKRw5RZWKJEg5YYFh0BsD5oQm2YRePxxaRUfoF/fnTrH2T4AvgxLhEROR1njr1F4jAgsp3lTLGJqDd81Lz9FVx3VpmIiIiIroszx15JZXmbMus6s8rc4oqIiIjIXkyOvUldB03cMoLHFxMRERE5AcsqvInpoAnT1jndHgX01aiGgNWHP8bpphGIrxXxSHk5ArjFFREREVG9MTn2NlcvPhIELDj4Hyw/vByiJALhhk2tX2/WBGNqA5F+sZRbXBERERHVg2LKKiorK/HRRx8hJSUFkZGRiIiIQLt27TBjxgxcunTJ5mPOnTuH8ePHo3nz5tBoNOjduzd27Njh3sAbYMGPC7Ds52WGxPgqIiQs86vEgj4TeXwxERERUT0oJjlOT0/HuHHj8Mgjj+Ds2bO4cOEC/vWvf2Hx4sVITk5GVVWVRf+Kigr07dsXv/76Kw4dOoTCwkIMGDAAqamp2Lp1q0zvwn7VtdVYfnj5dfss//UTVNdWuykiIiIiIu+nmORYFEU88sgjmDx5Mvz9/aFSqfDggw9iypQp2L9/P1asWGHR/1//+hcOHz6MJUuWIDIyEiqVCjNmzEDXrl0xefJk1NbWyvRO7LP6yGqrGeNriZKI1UdWuykiIiIiIu+nmOR4wIABePLJJ63ab7/9dgDAvn37zG2SJOHDDz9E+/bt0alTJ4v+gwYNwvHjx7F9+3bXBtxAp8tPO7WfM+lFPfYV7sOXx7/EvsJ90It6t8dARERE5AjFLMh74IEHbLZXVxvKCpo0aWJuO3bsGAoKCjB06FCr/l27dgUA7Ny5E/fcc48LInWO+LB4p/Zzlm0nt2He3nko0hWZ26KDozG9x3Sktkx1ayxERERE9aWYmeO6/PjjjwAMM8ImR44cAQA0b97cqn9MTAwA4OjRo26IznGPtHsEguk0vDqoBBUeafeImyIyJMbpO9ItEmMAKNYVI31HOrad3Oa2WIiIiIgcoZiZY1sqKiqwfPlyDBo0CH/5y1/M7WVlhqOUg4ODrR5jaistLbX5nFVVVRaL+8rLywEYap5F0X37Cu/I3wHJfBqebaM6joKfys8tcelFPebtnWczJgkSBAiYt3ce+sb2hVqldlkcoihCkiS3jgW5DsdTWTieysLxVA5fGMv6vDePS44vX76M7Oxsu/s/9NBDCA0NtXntueeeQ0BAAN59911nhYe5c+dizpw5Vu0lJSWorKx02utcj17SY+4Pc6/bp5G6EYbHDUdxcbFbYsq9kGs1Y3w1CRKKdEX45sg36Nq0q8viEEURZWVlkCQJKpXiPxhRPI6nsnA8lYXjqRy+MJYVFRV29/W45LikpASjRo2yu//Ro0dx0003WbX/+9//xurVq7Fnzx5ERVkehBEeHg4A0Ol0Vo8ztZn6XGvGjBlIT0833y8vL0d8fDyioqIQFhZmd9wNsa9wH85Vnbtunyv6K8iX8tE9urtbYqq9bN/uHrWBtdBoNC6LQxRFCIKAqKgoxf4D9yUcT2XheCoLx1M5fGEsg4KC7O7rcclxixYtcPHiRbv720pIP/nkE8yaNQtbtmyx2o0CANq1awcAOHv2rNW1goICAEBCQoLN1wsMDERgYKBVu0qlctsP1PkLv9nXr/K822LShNiX8GpCNC6PSRAEt44HuRbH0za9qEdOcQ5KdCWICo5CkibJpSVLzsLxVBaOp3IofSzr8748LjlWqVSIiIhw+PHZ2dl44oknsHHjRvTo0QOAYSq9oKAA7du3BwDcdNNNiImJQV5entXjTW3JyckOx+BqURszgebRN+4X7L6jo5M0SYgOjkaxrthm3bEAAdHB0UjSJLktJqIGO5MDbH0BuOclINZzfna5KwwRkeso6s+D//3vfxg7dizWrl2L3r17m9v379+Pxx57zHxfEASMGzcOv/32Gw4fPmzxHOvWrUObNm2QkpLitrjrK+m+RYiu1UOQbC/IEwBog7VuTUTVKjWm95hufH3LXTRM96f1mOYVM1tEZrmfASd2A3mec5gOd4UhInItj5s5dtTOnTsxaNAg3Hbbbfj222/x7bffmq+dOHHCqv9zzz2HdevWYdKkSfj888/RtGlTvPbaa8jNzcWXX34JPz/P/daou/4V08UKpOe+BUGSIAl/JqOC8X/lSERTW6ZiQfICmzNa03pM44wWeYfSU4DuPAAB+Hm9oe2ndUDX4QAkILgZENFCltDs2RXmtb2vISU+hX+IEhE5yHMzwHpauHAhrly5gt27d2P37t1W1/v27Wtxv3Hjxti1axemTZuGLl26QK/Xo127dti6datHzxqbpEZ3x4Lic5jXrAmKrkrkowObYtrtz8uWiKa2TEVKfIpX1kISAQDe7HLVHeMfnpfPAe9f9TvkxTK3hmSSU5xzw11hCnWFyCnOQXetexbjEhEpjWKS488//7zej4mMjMSHH37o/GDcISQKqarGSNFrkHPTXSg5+j9EXb6ApDEfQy3TrJaJWqXmf5jJew1aAnz+OCDWAuYZWuOtyg946B25IkOJrsSp/YiIyJpikmOfEx4LTP0JanUAugsC0OcFQF8N+FnvpKFUtlbr3+jUQKIbShwGRLaznCk2mfA1EHOL20MysXeRrTsX4xIRKQ2TY292dSIsCK5LjD1wxX5dq/Wf6/4cEoMSZYyMlEUFQLzqVl7cFYaIyPUUtVsFuYiHrdi/3mr9zJ2Z2F1kXXNOVC8hUUCoBojpCqQtNNyGagztMuKuMERErseZY7LNQ1fs27Na/51f38FDNz+k2I3MyQ2MZUtQBxg+len2qMeULXFXGCIi12JyTLZ56Ip9e1brl1SWIKc4B3+J+YsbIyPFcVfZkgO4KwwRkeswOSbbPHTFvr2r8M9dOefiSIjkxV1hiIhcg58705/O5AAfpRluE4cZVubbMuFrw3UZ2LsKP7JRpIsjISIiIiVickx/qnPhneqaW/mYVuvXtWWbAAFRQVFcrU9EREQOkT/bIXmVngIKDgAFBy0X3hUcBC4VGRbeedCKfXtW6z/e4XHWXno5vajHvsJ92PzHZuReyIVe1MsdEhER+QjWHPs6exbePfu7R63Yv95q/We7P8t9jr2czT2sf47G9B7TuRMDERG5HJNjX2fPwjvBmDR70Ir9ulbrCxBQXFwsd3jkINMe1tdu1VesK0b6jnQsSF7ABJmIiFyKybGv8+Cjcm/E1mp9UZT/FDNyjD17WL+29zWkxKewbIaIiFyGNcd0Fc9ZeEe+x549rAt1hcgpznFjVERE5GuYBZHHHpVLvsXePazt7UdEROQIllWQRx+VS77D3j2s7e1HRETkCM4ck4FfoEcuvCPfYc8e1tpgLfewJiIil2JyTEQewZ49rKf1mMbFeERE5FJMjonIY5j2sNYEayzaNcEabuNGRERuwZpjIvIoV+9hXXy5GH5Vfrir3V3w9/OXOzQiIvIBTI4JOJMDbH0BuOclIJb1nCQ/0x7WoiiiuLiYpRREROQ2LKsgIPcz4MRuIG+13JEQERERyYozx76q9BSgOw9AAH5eb2j7aR3QdTgACQhuBkS0kDNCIiIiIrdjcuyr3uxy1R3jzgCXz1keI/1imVtDIiIiIpIbyyp81aAlgMr0t5FkeavyM1wnIiIi8jGcOfZVicOAyHaWM8UmE74GYm5xe0hEREREcuPMMeHPHwP+OBAREZFvYzbky0KigFANENMVSFtouA3VGNpd6UwO8FGa4ZaIiIjIg7CswpeFxwJTfwLUAYAgAN0eBfTVgF+ga1/36q3juK8yEREReRAmx77u6kRYEFyXGHPrOCIiIvICTI7JPbh1HBEREXkB1hyTe3DrOCIiIvICnDkm9+DWcUREROQFOHNMMuDWcUREROSZmJ2Q+8i1dRwRERGRnVhWQe4j19ZxRERERHZickzu5a6t44iIiIgcwLIKIiIiIiIjJsdEREREREZMjomIiIiIjJgcExEREREZMTkmIiIiIjJickxEREREZMTkmIiIiIjIiMkxEREREZERk2MiIiIiIiMmx0RERERERkyOiYiIiIiM/OQOwNtJkgQAKC8vlzkSAgBRFFFRUYGgoCCoVPzbz9txPJWF46ksHE/l8IWxNOVpprztepgcN1BFRQUAID4+XuZIiIiIiOh6KioqEB4eft0+gmRPCk11EkURBQUFaNy4MQRBkDscn1deXo74+HicPn0aYWFhcodDDcTxVBaOp7JwPJXDF8ZSkiRUVFQgJibmhrPjnDluIJVKhbi4OLnDoGuEhYUp9h+4L+J4KgvHU1k4nsqh9LG80YyxiTILS4iIiIiIHMDkmIiIiIjIiMkxKUpgYCBmz56NwMBAuUMhJ+B4KgvHU1k4nsrBsbTEBXlEREREREacOSYiIiIiMmJyTERERERkxOSYiIiIiMiIyTF5jbKyMixatAg9e/ZEs2bNEB4ejs6dO2P+/Pmoqamx6n/ixAkMHToU0dHR0Gg0uPfee5GbmytD5GSPM2fOIDw8vM7DdDienq+8vBzTp09H+/btodVqodFo0LdvX6xcudKi37lz5zB+/Hg0b94cGo0GvXv3xo4dO+QJmmyqrq7GW2+9ha5duyI6OhpxcXEYMGAA/u///s+qL8fT83z88ceIiIjA2LFj6+xT33Fbu3YtunXrBo1Gg/j4eGRmZkKn0zk/eE8gEXmJ++67TwoKCpLWr18v6fV6qbq6Wvrggw8klUolpaWlWfTNz8+XtFqtNGjQIKmiokKqqqqSnnjiCSkkJETKy8uT6R3Q9TzwwAMSAMnWryWOp+crKSmROnToII0bN046f/68JEmSdOTIEalNmzbS4MGDzf3Ky8ulTp06Sb169ZJKSkokvV4vvfrqq5JarZa2bNkiV/h0jb/+9a+SWq2W1qxZI4miKFVUVEjDhw+X1Gq1tHXrVnM/jqdnKSkpkQYPHiy1aNFCAiCNGTPGZr/6jtuHH34oCYIgrVy5UpIkSTp+/Lh00003SSkpKVJtba0r35IsmByT1+jfv780ffp0q/bhw4dLACz+QY8aNUoKCgoy/0dakiSpsrJS0mq1Up8+fdwSL9lvzZo1UuvWraXu3bvbTI45np5v2LBhUlJSkqTX6y3aV61aJT333HPm+88//7wEQPr5558t+iUlJUlt2rSRampq3BIv1e3UqVMSAGnIkCEW7aWlpZJKpZLuuececxvH07Pcd9990nPPPSf9+uuv102O6zNuFy5ckMLDw6WhQ4da9P3iiy8kANLSpUud/j7kxuSYvMby5cut/iFLkiQtWrRIAiC98sorkiQZ/iIOCAiQ+vfvb9V3woQJEgDpyJEjLo+X7HPx4kVJq9VKX331ldS3b1+r5Jjj6fmOHz8uAZAWLVp03X6iKEoxMTFS+/btra7985//tPojl+Tx/fffSwAs/qgx0Wg0UocOHSRJ4nh6otOnT0uSJEl//PFHnclxfcft3XfflQBIn376qUXf6upqqVGjRlKvXr2c+yY8AGuOyWuMHj0anTp1smqvrq4GADRp0gQA8MMPP6C6uhqJiYlWfbt27QoA2LlzpwsjpfrIzMxEamoq+vXrZ/M6x9PzbdiwAQBw2223XbffsWPHUFBQwLH0cAkJCQgICMCRI0cs2i9cuIBz586hQ4cOADieniguLu6Gfeo7brt27QIAq/7+/v7o1KkTfvjhB1RVVTUkbI/D5Ji83o8//gg/Pz888MADAGD+hd68eXOrvjExMQCAo0ePui9AqtOOHTvw3//+FwsXLqyzD8fT85kWRgqCgEmTJqFVq1bmxXiff/65uR/H0js0a9YM8+fPx8aNG7FixQpUV1ejpKQEkyZNQtOmTfHSSy8B4Hh6q/qO2436i6KI48ePuyJU2TA5Jq92+vRpfPHFF5gyZQpiY2MBGHa1AIDg4GCr/qa20tJSt8VItlVWVmLSpEl4/fXXERkZWWc/jqfnKyoqAgA88MADuOmmm3Do0CH88ssvaNeuHR5++GG8++67ADiW3uTpp5/Gu+++i6lTp6Jx48bQaDQ4e/Ys9uzZgy5dugDgeHqr+o6bL44zk2PyWpIkYfLkyejUqRNeeeUVucOhenrppZfQsmVLjB49Wu5QqIEqKysBGD6Sfe6559C4cWM0a9YMb7/9NuLi4jBt2jRcunRJ5ijJXnq9Hn/961+RmZmJ5cuXo6KiAmfPnkXLli1xxx13sFSCFI/JMXmtZ599FocPH8bGjRsRFBRkbg8PDwcAm/svmtpMfUgeeXl5+M9//oP33nvvhn05np7PNHt01113WbT7+/vjrrvuQnl5Ob7//nuOpZdYunQpVq9ejeeffx4DBw5EQEAAtFotli5dioCAAIwePRrV1dUcTy9V33HzxXH2kzsAIkfMmzcPn376KXbt2gWtVmtxrV27dgCAs2fPWj2uoKAAgGHBCcln06ZNAIBevXpZtF+4cAEAzGOamZlpXiDC8fRcLVq0AGCoVb2WRqMBAJSUlKB79+4AOJaebuvWrQCA3r17W7QHBQXhtttuw4YNG/Drr7/yd62Xqu+4tWvXDj/++CPOnj1rXvh+dX+VSoU2bdq4MGL348wxeZ3Fixdj4cKF2LZtG9q2bQsAOH/+PE6cOAEA6NmzJwICApCXl2f1WFNbcnKyu8IlG2bMmIGysjIUFhZafJmSZdP9zMxMjqcX6NmzJwCguLjY6lpJSQkAICoqCjfddBNiYmI4lh7OVAJj67RKlUpl7sPx9E71Hbc+ffpYXDOpqanBL7/8gp49e1p8eqsETI7JqyxduhRz5szBli1b0LFjR3P7hg0b8OKLLwIAGjdujGHDhmHnzp3mmUjAsOXbhg0b0Lt3b85meBGOp+d74IEH0KRJE2zZssWiXa/XY+fOnWjSpAl69eoFQRAwbtw4/Pbbbzh8+LBF33Xr1qFNmzZISUlxZ+hkg2lLvu+//96ivaamBvv370dgYCA6d+7M8fRS9R23oUOHIiwsDNnZ2RZ9N2/eDJ1Oh/Hjx7slbreSe6NlInt9+umnkkqlkgYOHCjNnj3b4uvBBx+02Oz8escN5+bmyvcm6LpsHQIiSRxPb7B8+XIJgPSvf/1LqqyslC5fvixNmTJFEgRBWrFihblfeXm51LFjR+mOO+6wOrb2q6++kvEdkElxcbEUFxcnRUVFSTt27JBEUZTKy8ulSZMmSQCkF1980dyX4+mZrncIiCTVf9w++OADSaVSmY+P/uOPP6SEhAQeH00kt65du0oA6vy69pfAH3/8IQ0ePFiKioqSoqKipH79+kkHDx6UJ3i6rp49e0rR0dGSv7+/BECKjo6WoqOjpYKCAnMfjqfn++KLL6SePXtKERERUkREhJSSkiJt3brVql9JSYk0btw4SavVSlFRUdIdd9whffPNNzJETHUpKCiQHnvsMalFixZSeHi4FBYWJt1+++3S8uXLrfpyPD3HJ598IkVHR0uRkZESACkoKEiKjo6WunTpYtW3vuO2Zs0a6dZbb5WioqKk2NhYKT09Xbp8+bIr345sBEmSJFmmrImIiIiIPAxrjomIiIiIjJgcExEREREZMTkmIiIiIjJickxEREREZMTkmIiIiIjIiMkxEREREZERk2MiIiIiIiMmx0RERERERkyOiYgUpKioCHFxcRg/frzcoRAReSUmx0REXqhVq1Zo1aqVVXtVVRXKy8tx/vx59wdFRKQAfnIHQEREztOiRQuUlJQgICBA7lCIiLwSk2MiIoUJDAyUOwQiIq/FsgoiIi+ybNkyaLVanD59GqdPn4ZWqzV/LVmyBFqtFgEBARAEwfyY3377DVqtFqGhoRAEAVu3bsU//vEPtG3bFo0bN0ZqaioOHz4MAPjwww+RmJiIsLAw9OzZEz/88IPNOH7//XeMHj0azZs3R9OmTREbG4vRo0fj999/t+q7atUq9OrVC7GxsYiJiUGXLl0wZcoU5OTkuOabRETUAEyOiYi8yKOPPorCwkLEx8cjPj4ehYWF5q+JEyeisLAQvXr1snhM+/btUVhYiMzMTADAnDlz0KdPHxw7dgyHDh3CkSNH0L9/fyxbtgwBAQE4cOAA/vjjD9TU1OD+++9HRUWFxfMdOHAA3bp1w+nTp7Fv3z5cuHABu3btwm+//YbbbrsNv/zyi7nvBx98gJEjRyI9PR35+fkoKCjAsmXLkJ2djUWLFrn+G0ZEVE9MjomIfEy3bt1w7733QhAEtGrVCqNHj0Z+fj42bNiAUaNGQa1Wo1mzZnj88cdx4cIFfPnll+bHSpKEsWPH4sqVK/jkk08QFxcHAGjbti2WLl2K0tJSZGRkmPuvX78eERERGDJkiHk2+7bbbsPs2bPRvHlz975xIiI7MDkmIvIx184st2jRAgDwl7/8xaI9Pj4eAHDq1ClzW15eHvLy8nDLLbcgJibGov/NN9+Mxo0bY9u2bbhy5QoAw64aFy9exOOPP44TJ06Y+06YMAFz58512nsiInIWJsdERD4mKirK4r5pZ4tr200L+y5fvmxu++233wAAubm5FvXOpi/T8xUWFgIAXnrpJdx3331499130bp1a9xyyy144YUXcPz4cde8OSKiBmJyTETkY1Qq27/662q3pW/fvhb1zqav8vJyXLp0Ca1btwYAREZG4ssvv8Qvv/yCl19+GYIg4OWXX0aHDh3w7rvvOuX9EBE5E5NjIiKyW4cOHQAAp0+ftnk9Pz8f27dvN9/X6/WQJAkdOnTArFmzcODAAXz77bcIDQ3F008/jaqqKrfETURkLybHREReKCQkBDU1Neb7y5Ytw5o1a1z+uomJibjlllvwyy+/IC8vz+r6lClT8Prrr5vv33333Vi9erVFn169eiE5ORnV1dW4dOmSy2MmIqoPJsdERF4oMTERxcXFOHv2LC5duoS5c+eiqKjILa/90UcfoUmTJhg/fjyOHDkCANDpdHjxxRexfft2zJs3z6L/K6+8Yt5HGQC+/fZb7NixA2lpaWjWrJlbYiYispcgSZIkdxBERFQ/x48fx8SJE5Gbm4vAwECkpqaiV69emD17Ni5cuICamhpER0fjoYcewquvvopOnTrh0qVLuHz5Mpo0aYLbb78dmzZtQmJiIk6ePIny8nKEhYWhZcuWyMvLw/3334/vv/8eFy9eREhICEJDQ3H48GE0bdoUAPDHH3/g5ZdfxldffYXa2loEBwfjjjvuwMyZM9GxY0dznHv27MGKFSuwe/dulJWVQZIkREVFYcSIEXj66afRqFEjub6FREQ2MTkmIiIiIjJiWQURERERkRGTYyIiIiIiIybHRERERERGTI6JiIiIiIyYHBMRERERGTE5JiIiIiIyYnJMRERERGTE5JiIiIiIyIjJMRERERGREZNjIiIiIiIjJsdEREREREZMjomIiIiIjJgcExEREREZ/T9YHvvT8lHQNwAAAABJRU5ErkJggg==",
      "text/plain": [
       "<Figure size 800x500 with 1 Axes>"
      ]
     },
     "metadata": {},
     "output_type": "display_data"
    },
    {
     "data": {
      "text/plain": [
       "<Figure size 800x500 with 0 Axes>"
      ]
     },
     "metadata": {},
     "output_type": "display_data"
    }
   ],
   "source": [
    "plt.figure()\n",
    "plt.xlabel('times')\n",
    "plt.ylabel('rewards')\n",
    "plt.plot(mcts_rewards,mcts_times,'p')\n",
    "plt.plot(bon_rewards,bon_times,'*')\n",
    "plt.plot(cot_rewards,cot_times,'o')\n",
    "plt.legend(['mcts','bon','aligned'])\n",
    "print(f\"MCTS --> reward: {np.mean(mcts_rewards)} +- {np.std(mcts_rewards)} ; time: {np.mean(mcts_times)} +- {np.std(mcts_times)}\")\n",
    "print(f\"BoN --> reward: {np.mean(bon_rewards)} +- {np.std(bon_rewards)} ; time: {np.mean(bon_times)} +- {np.std(bon_times)}\")\n",
    "print(f\"CoT --> reward: {np.mean(cot_rewards)} +- {np.std(cot_rewards)} ; time: {np.mean(cot_times)} +- {np.std(cot_times)}\")\n",
    "plt.show()\n",
    "plt.savefig(\"figures/test_time_search_20_samples.jpg\")"
   ]
  },
  {
   "cell_type": "code",
   "execution_count": 26,
   "metadata": {},
   "outputs": [
    {
     "name": "stdout",
     "output_type": "stream",
     "text": [
      "MCTS --> reward: -4.18125 +- 2.353139525187574 ; time: 61.31804180145264 +- 19.808120790217654\n",
      "BoN --> reward: -19.4125 +- 5.964687753772195 ; time: 64.86033539772033 +- 15.809577734244574\n",
      "CoT --> reward: -13.71875 +- 4.00136695392962 ; time: 62.98494653701782 +- 28.0474180479207\n"
     ]
    },
    {
     "data": {
      "image/png": "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",
      "text/plain": [
       "<Figure size 800x500 with 1 Axes>"
      ]
     },
     "metadata": {},
     "output_type": "display_data"
    },
    {
     "data": {
      "text/plain": [
       "<Figure size 800x500 with 0 Axes>"
      ]
     },
     "metadata": {},
     "output_type": "display_data"
    }
   ],
   "source": [
    "plt.figure()\n",
    "plt.xlabel('times')\n",
    "plt.ylabel('rewards')\n",
    "plt.plot(mcts_times,mcts_rewards,'p')\n",
    "plt.plot(bon_times,bon_rewards,'*')\n",
    "plt.plot(cot_times,cot_rewards,'o')\n",
    "plt.legend(['mcts','bon','aligned'])\n",
    "print(f\"MCTS --> reward: {np.mean(mcts_rewards)} +- {np.std(mcts_rewards)} ; time: {np.mean(mcts_times)} +- {np.std(mcts_times)}\")\n",
    "print(f\"BoN --> reward: {np.mean(bon_rewards)} +- {np.std(bon_rewards)} ; time: {np.mean(bon_times)} +- {np.std(bon_times)}\")\n",
    "print(f\"CoT --> reward: {np.mean(cot_rewards)} +- {np.std(cot_rewards)} ; time: {np.mean(cot_times)} +- {np.std(cot_times)}\")\n",
    "plt.show()\n",
    "plt.savefig(\"figures/test_time_search_5_samples.jpg\")"
   ]
  }
 ],
 "metadata": {
  "kernelspec": {
   "display_name": "spec",
   "language": "python",
   "name": "python3"
  },
  "language_info": {
   "codemirror_mode": {
    "name": "ipython",
    "version": 3
   },
   "file_extension": ".py",
   "mimetype": "text/x-python",
   "name": "python",
   "nbconvert_exporter": "python",
   "pygments_lexer": "ipython3",
   "version": "3.10.14"
  },
  "orig_nbformat": 4
 },
 "nbformat": 4,
 "nbformat_minor": 2
}
